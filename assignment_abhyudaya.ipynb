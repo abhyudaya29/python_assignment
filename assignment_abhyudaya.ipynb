{
 "cells": [
  {
   "cell_type": "markdown",
   "id": "0e334541-efb0-448c-8119-5d1d69dde788",
   "metadata": {},
   "source": [
    "Q1. Which keyword is used to create a function? Create a function to return a list of odd numbers in the\n",
    "range of 1 to 25."
   ]
  },
  {
   "cell_type": "markdown",
   "id": "69d32816-6e79-489b-b3b9-75744956b63f",
   "metadata": {},
   "source": [
    "ans: def is use to define a function in the python"
   ]
  },
  {
   "cell_type": "code",
   "execution_count": 16,
   "id": "30d3f915-8941-4353-9035-1c0153344c1c",
   "metadata": {},
   "outputs": [],
   "source": [
    "## code \n",
    "def odd_num():\n",
    "    l=[]\n",
    "    for i in range(11,25+1):\n",
    "        print(i)\n",
    "        if i%2!=0:\n",
    "            l.append(i)\n",
    "    return l\n",
    "    \n",
    "    \n",
    "            "
   ]
  },
  {
   "cell_type": "code",
   "execution_count": 17,
   "id": "01c7f86c-7d59-49e4-b2d6-954095445267",
   "metadata": {},
   "outputs": [
    {
     "name": "stdout",
     "output_type": "stream",
     "text": [
      "11\n",
      "12\n",
      "13\n",
      "14\n",
      "15\n",
      "16\n",
      "17\n",
      "18\n",
      "19\n",
      "20\n",
      "21\n",
      "22\n",
      "23\n",
      "24\n",
      "25\n"
     ]
    },
    {
     "data": {
      "text/plain": [
       "[11, 13, 15, 17, 19, 21, 23, 25]"
      ]
     },
     "execution_count": 17,
     "metadata": {},
     "output_type": "execute_result"
    }
   ],
   "source": [
    "odd_num() "
   ]
  },
  {
   "cell_type": "markdown",
   "id": "b0610c7b-ff6b-46a9-8dac-ae09886e0319",
   "metadata": {},
   "source": [
    "Q2. Why *args and **kwargs is used in some functions? Create a function each for *args and **kwargs\n",
    "to demonstrate their use."
   ]
  },
  {
   "cell_type": "markdown",
   "id": "4b668561-1ac1-489f-8d5a-63250036d282",
   "metadata": {},
   "source": [
    "ans: we use *args when we require a non-dictionary value as a input from user. here the length is noit definded as it stores the data in form of tuple\n",
    "and we use *kwargs when we require a key value as a inout i.e: dictionary"
   ]
  },
  {
   "cell_type": "code",
   "execution_count": 18,
   "id": "77b7d495-b3cb-4b06-8131-1d94ce2de3d2",
   "metadata": {},
   "outputs": [],
   "source": [
    "# code:\n",
    "#for *args\n",
    "def num(*args):\n",
    "    return args\n",
    "    \n"
   ]
  },
  {
   "cell_type": "code",
   "execution_count": 19,
   "id": "da0db0f1-374b-4c72-9c90-d22567e9a7e0",
   "metadata": {},
   "outputs": [
    {
     "data": {
      "text/plain": [
       "(1, 2, 3, 'abhyudaya')"
      ]
     },
     "execution_count": 19,
     "metadata": {},
     "output_type": "execute_result"
    }
   ],
   "source": [
    "num(1,2,3,\"abhyudaya\")"
   ]
  },
  {
   "cell_type": "code",
   "execution_count": 20,
   "id": "949d8b53-2940-4f99-8b00-f0ed03a29e51",
   "metadata": {},
   "outputs": [],
   "source": [
    "## for *kwargs\n",
    "\n",
    "def num_kwargs(**kwargs):\n",
    "    return kwargs\n",
    "\n"
   ]
  },
  {
   "cell_type": "code",
   "execution_count": 21,
   "id": "59a200ce-9bbd-4bcd-9bfe-60addd6aa05b",
   "metadata": {},
   "outputs": [
    {
     "data": {
      "text/plain": [
       "{'name': 'abhyudaya', 'course': 'data science masters', 'college_year': '3rd'}"
      ]
     },
     "execution_count": 21,
     "metadata": {},
     "output_type": "execute_result"
    }
   ],
   "source": [
    "num_kwargs(name=\"abhyudaya\", course=\"data science masters\", college_year=\"3rd\")"
   ]
  },
  {
   "cell_type": "markdown",
   "id": "3fca65ed-6441-42a3-bdf3-6318264ceb60",
   "metadata": {},
   "source": [
    "Q3. What is an iterator in python? Name the method used to initialise the iterator object and the method\n",
    "used for iteration. Use these methods to print the first five elements of the given list [2, 4, 6, 8, 10, 12, 14,\n",
    "16, 18, 20]."
   ]
  },
  {
   "cell_type": "markdown",
   "id": "6e296dee-2aef-4a57-8a1f-68a56ef7c18c",
   "metadata": {},
   "source": [
    "ans: iterator in python is something which is use to traverse the data for a given amount of loop"
   ]
  },
  {
   "cell_type": "markdown",
   "id": "6a50f010-8fb3-4316-9964-3a93e1e47951",
   "metadata": {},
   "source": [
    "in for loop we can initialise the iterator as i like: for i in range\n",
    "and in while loop it cab be:\n",
    "    i=0\n",
    "    while i<10:\n"
   ]
  },
  {
   "cell_type": "code",
   "execution_count": 25,
   "id": "008156c6-ddcf-407b-b3a6-1833d18214d9",
   "metadata": {},
   "outputs": [
    {
     "name": "stdout",
     "output_type": "stream",
     "text": [
      "[2, 4, 6, 8, 10]\n"
     ]
    }
   ],
   "source": [
    "# code:\n",
    "l=[2, 4, 6, 8, 10, 12, 14,16, 18, 20]\n",
    "for i in l:\n",
    "    a=l[0:5]\n",
    "print(a)\n",
    "    "
   ]
  },
  {
   "cell_type": "markdown",
   "id": "bf853238-eb15-48d3-9dd5-936a70405563",
   "metadata": {},
   "source": [
    "Q4. What is a generator function in python? Why yield keyword is used? Give an example of a generator\n",
    "function."
   ]
  },
  {
   "cell_type": "markdown",
   "id": "6622c90a-97d0-4057-848b-a552863365a0",
   "metadata": {},
   "source": [
    "ans: generator function is a type of function which act's as aiterator \n",
    "it uses yield instead of return"
   ]
  },
  {
   "cell_type": "code",
   "execution_count": 32,
   "id": "f66577ee-fb17-4a98-8337-46d5277890c2",
   "metadata": {},
   "outputs": [],
   "source": [
    "def do_something():\n",
    "    print(\"hey! its my first generator func\")\n",
    "    yield 29\n",
    "    print(\"hey! its my second generator func\")\n",
    "    yield 30\n",
    "    print(\"hey! its my third generator func\")\n",
    "    yield 40"
   ]
  },
  {
   "cell_type": "code",
   "execution_count": 33,
   "id": "959f4b8a-8333-452c-bf55-c8a0d43ec807",
   "metadata": {},
   "outputs": [],
   "source": [
    "a=do_something()"
   ]
  },
  {
   "cell_type": "code",
   "execution_count": 34,
   "id": "5fd99a47-0934-49db-997c-7a668c475d68",
   "metadata": {},
   "outputs": [
    {
     "name": "stdout",
     "output_type": "stream",
     "text": [
      "hey! its my first generator func\n"
     ]
    },
    {
     "data": {
      "text/plain": [
       "29"
      ]
     },
     "execution_count": 34,
     "metadata": {},
     "output_type": "execute_result"
    }
   ],
   "source": [
    "next(a)"
   ]
  },
  {
   "cell_type": "code",
   "execution_count": 35,
   "id": "b9bc32b4-4c23-4776-9143-a7882127d74a",
   "metadata": {},
   "outputs": [
    {
     "name": "stdout",
     "output_type": "stream",
     "text": [
      "hey! its my second generator func\n"
     ]
    },
    {
     "data": {
      "text/plain": [
       "30"
      ]
     },
     "execution_count": 35,
     "metadata": {},
     "output_type": "execute_result"
    }
   ],
   "source": [
    "next(a)"
   ]
  },
  {
   "cell_type": "code",
   "execution_count": 36,
   "id": "baeab1d0-2f7e-469e-ad1f-42f14cbb2e0b",
   "metadata": {},
   "outputs": [
    {
     "name": "stdout",
     "output_type": "stream",
     "text": [
      "hey! its my third generator func\n"
     ]
    },
    {
     "data": {
      "text/plain": [
       "40"
      ]
     },
     "execution_count": 36,
     "metadata": {},
     "output_type": "execute_result"
    }
   ],
   "source": [
    "next(a)"
   ]
  },
  {
   "cell_type": "code",
   "execution_count": 43,
   "id": "ed336a4e-6738-47d4-b8fa-1a5218f67d50",
   "metadata": {},
   "outputs": [],
   "source": [
    "def prime_numbers_gen():\n",
    "    yield 2\n",
    "    primes = [2]\n",
    "    num = 3\n",
    "    while num < 1000:\n",
    "        for p in primes:\n",
    "            if p * p > num:\n",
    "                primes.append(num)\n",
    "                yield num\n",
    "                break\n",
    "            if num % p == 0:\n",
    "                break\n",
    "        num += 2\n",
    "\n",
    "    "
   ]
  },
  {
   "cell_type": "code",
   "execution_count": 44,
   "id": "aebfa5cb-b34c-4036-8634-ae2939d1b0c4",
   "metadata": {},
   "outputs": [
    {
     "name": "stdout",
     "output_type": "stream",
     "text": [
      "2\n",
      "3\n",
      "5\n",
      "7\n",
      "11\n",
      "13\n",
      "17\n",
      "19\n",
      "23\n",
      "29\n",
      "31\n",
      "37\n",
      "41\n",
      "43\n",
      "47\n",
      "53\n",
      "59\n",
      "61\n",
      "67\n",
      "71\n"
     ]
    }
   ],
   "source": [
    "prime_gen = prime_numbers_gen()\n",
    "for i in range(20):\n",
    "    print(next(prime_gen))\n",
    "\n",
    "\n",
    "\n"
   ]
  },
  {
   "cell_type": "markdown",
   "id": "3d875716-c984-411d-bd90-3dcf7d348342",
   "metadata": {},
   "source": [
    "Q6. Write a python program to print the first 10 Fibonacci numbers using a while loop."
   ]
  },
  {
   "cell_type": "code",
   "execution_count": 46,
   "id": "c9121c71-1c61-481a-8f18-793d35753056",
   "metadata": {},
   "outputs": [
    {
     "name": "stdout",
     "output_type": "stream",
     "text": [
      "1\n",
      "1\n",
      "2\n",
      "3\n",
      "5\n",
      "8\n",
      "13\n",
      "21\n",
      "34\n",
      "55\n"
     ]
    }
   ],
   "source": [
    "def fibonacci(n):\n",
    "    a, b = 0, 1\n",
    "    while n > 0:\n",
    "        print(b)\n",
    "        a, b = b, a + b\n",
    "        n -= 1\n",
    "\n",
    "fibonacci(10)\n"
   ]
  },
  {
   "cell_type": "markdown",
   "id": "6194e3c8-aa73-4a2b-88a9-ad3d5bc8cc73",
   "metadata": {},
   "source": [
    "Q7. Write a List Comprehension to iterate through the given string: ‘pwskills’.\n",
    "Expected output: ['p', 'w', 's', 'k', 'i', 'l', 'l', 's']"
   ]
  },
  {
   "cell_type": "code",
   "execution_count": 47,
   "id": "be4e1347-57a9-41fc-8516-a4f7b6120586",
   "metadata": {},
   "outputs": [
    {
     "name": "stdout",
     "output_type": "stream",
     "text": [
      "['p', 'w', 's', 'k', 'i', 'l', 'l', 's']\n"
     ]
    }
   ],
   "source": [
    "string = 'pwskills'\n",
    "output = [char for char in string]\n",
    "print(output)\n"
   ]
  },
  {
   "cell_type": "markdown",
   "id": "6c28cd5c-c623-419d-b428-f65c0a517722",
   "metadata": {},
   "source": [
    "Q8. Write a python program to check whether a given number is Palindrome or not using a while loop."
   ]
  },
  {
   "cell_type": "code",
   "execution_count": 48,
   "id": "2304a8d8-9cb3-433a-a2f8-e38d59fc8172",
   "metadata": {},
   "outputs": [
    {
     "name": "stdin",
     "output_type": "stream",
     "text": [
      "Enter a number:  67\n"
     ]
    },
    {
     "name": "stdout",
     "output_type": "stream",
     "text": [
      "The number is not a palindrome.\n"
     ]
    }
   ],
   "source": [
    "def is_palindrome(num):\n",
    "    original_num = num\n",
    "    reverse_num = 0\n",
    "    while num > 0:\n",
    "        last_digit = num % 10\n",
    "        reverse_num = (reverse_num * 10) + last_digit\n",
    "        num = num // 10\n",
    "    return original_num == reverse_num\n",
    "\n",
    "number = int(input(\"Enter a number: \"))\n",
    "if is_palindrome(number):\n",
    "    print(\"The number is a palindrome.\")\n",
    "else:\n",
    "    print(\"The number is not a palindrome.\")\n"
   ]
  },
  {
   "cell_type": "markdown",
   "id": "af14008e-17f6-48ca-8955-53a5fb1fbdc9",
   "metadata": {},
   "source": [
    "Q9. Write a code to print odd numbers from 1 to 100 using list comprehension.\n",
    "Note: Use a list comprehension to create a list from 1 to 100 and use another List comprehension to filter\n",
    "out odd numbers."
   ]
  },
  {
   "cell_type": "code",
   "execution_count": 50,
   "id": "c26e0fd5-18bd-47a2-947d-f9fec7872213",
   "metadata": {},
   "outputs": [
    {
     "name": "stdout",
     "output_type": "stream",
     "text": [
      "[1, 3, 5, 7, 9, 11, 13, 15, 17, 19, 21, 23, 25, 27, 29, 31, 33, 35, 37, 39, 41, 43, 45, 47, 49, 51, 53, 55, 57, 59, 61, 63, 65, 67, 69, 71, 73, 75, 77, 79, 81, 83, 85, 87, 89, 91, 93, 95, 97, 99]\n"
     ]
    }
   ],
   "source": [
    "numbers = [x for x in range(1, 101)]\n",
    "odd_numbers = [x for x in numbers if x % 2 != 0]\n",
    "print(odd_numbers)\n"
   ]
  },
  {
   "cell_type": "code",
   "execution_count": null,
   "id": "46a443ba-7c7f-4813-b65a-4ff4c7728069",
   "metadata": {},
   "outputs": [],
   "source": []
  }
 ],
 "metadata": {
  "kernelspec": {
   "display_name": "Python 3 (ipykernel)",
   "language": "python",
   "name": "python3"
  },
  "language_info": {
   "codemirror_mode": {
    "name": "ipython",
    "version": 3
   },
   "file_extension": ".py",
   "mimetype": "text/x-python",
   "name": "python",
   "nbconvert_exporter": "python",
   "pygments_lexer": "ipython3",
   "version": "3.10.8"
  }
 },
 "nbformat": 4,
 "nbformat_minor": 5
}
